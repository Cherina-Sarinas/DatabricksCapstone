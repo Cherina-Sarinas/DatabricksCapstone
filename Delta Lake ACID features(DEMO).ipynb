{
 "cells": [
  {
   "cell_type": "code",
   "execution_count": 0,
   "metadata": {
    "application/vnd.databricks.v1+cell": {
     "cellMetadata": {
      "byteLimit": 2048000,
      "implicitDf": true,
      "rowLimit": 10000
     },
     "inputWidgets": {},
     "nuid": "c83a7baf-67aa-450e-b5ff-909c4b050073",
     "showTitle": true,
     "tableResultSettingsMap": {},
     "title": "HISTORY"
    }
   },
   "outputs": [],
   "source": [
    "%sql\n",
    "DESCRIBE HISTORY capstone.medisure.gold_claims_delta_table;"
   ]
  },
  {
   "cell_type": "code",
   "execution_count": 0,
   "metadata": {
    "application/vnd.databricks.v1+cell": {
     "cellMetadata": {
      "byteLimit": 2048000,
      "implicitDf": true,
      "rowLimit": 10000
     },
     "inputWidgets": {},
     "nuid": "dd5de0df-b00a-41f7-9220-3c1c3ccab179",
     "showTitle": true,
     "tableResultSettingsMap": {},
     "title": "VERSIONING"
    }
   },
   "outputs": [],
   "source": [
    "%sql\n",
    "SELECT * FROM capstone.medisure.gold_claims_delta_table VERSION AS OF 1;\n"
   ]
  },
  {
   "cell_type": "code",
   "execution_count": 0,
   "metadata": {
    "application/vnd.databricks.v1+cell": {
     "cellMetadata": {
      "byteLimit": 2048000,
      "implicitDf": true,
      "rowLimit": 10000
     },
     "inputWidgets": {},
     "nuid": "e52e9431-9e2e-4a67-9be8-45b6b9657f2f",
     "showTitle": true,
     "tableResultSettingsMap": {},
     "title": "ROLLBACK"
    }
   },
   "outputs": [],
   "source": [
    "%sql\n",
    "RESTORE TABLE capstone.medisure.gold_claims_delta_table  TO VERSION AS OF 1;\n"
   ]
  },
  {
   "cell_type": "code",
   "execution_count": 0,
   "metadata": {
    "application/vnd.databricks.v1+cell": {
     "cellMetadata": {
      "byteLimit": 2048000,
      "implicitDf": true,
      "rowLimit": 10000
     },
     "inputWidgets": {},
     "nuid": "1404c3a9-97d9-4615-86d3-418ea84563bd",
     "showTitle": true,
     "tableResultSettingsMap": {
      "0": {
       "dataGridStateBlob": "{\"version\":1,\"tableState\":{\"columnPinning\":{\"left\":[\"#row_number#\"],\"right\":[]},\"columnSizing\":{},\"columnVisibility\":{}},\"settings\":{\"columns\":{}},\"syncTimestamp\":1757310818294}",
       "filterBlob": null,
       "queryPlanFiltersBlob": null,
       "tableResultIndex": 0
      }
     },
     "title": "DATA/METADATA COMPARISON"
    }
   },
   "outputs": [],
   "source": [
    "\n",
    "df1 = spark.sql(\"\"\"DESCRIBE DETAIL capstone.medisure.gold_claims_delta_table\"\"\")\n",
    "df2 = spark.sql(\"\"\"DESCRIBE HISTORY capstone.medisure.gold_claims_delta_table\"\"\")\n",
    "\n",
    "display(df1)\n",
    "display(df2)"
   ]
  },
  {
   "cell_type": "code",
   "execution_count": 0,
   "metadata": {
    "application/vnd.databricks.v1+cell": {
     "cellMetadata": {
      "byteLimit": 2048000,
      "implicitDf": true,
      "rowLimit": 10000
     },
     "inputWidgets": {},
     "nuid": "52c9348e-5096-45f3-97b1-eb9800c6da6e",
     "showTitle": true,
     "tableResultSettingsMap": {},
     "title": "PARTITIONING"
    }
   },
   "outputs": [],
   "source": [
    "%sql\n",
    "-- Create a partitioned table (CTAS) if you want a new one\n",
    "CREATE TABLE IF NOT EXISTS capstone.medisure.gold_claims_delta_table_partitioned\n",
    "USING DELTA\n",
    "PARTITIONED BY (status)\n",
    "AS SELECT * FROM capstone.medisure.gold_claims_delta_table;"
   ]
  },
  {
   "cell_type": "code",
   "execution_count": 0,
   "metadata": {
    "application/vnd.databricks.v1+cell": {
     "cellMetadata": {
      "byteLimit": 2048000,
      "implicitDf": true,
      "rowLimit": 10000
     },
     "inputWidgets": {},
     "nuid": "5259b6d7-342f-42e8-8640-d6b3203d16ec",
     "showTitle": false,
     "tableResultSettingsMap": {},
     "title": ""
    }
   },
   "outputs": [],
   "source": [
    "%sql\n",
    "DESCRIBE DETAIL capstone.medisure.gold_claims_delta_table_partitioned;"
   ]
  },
  {
   "cell_type": "code",
   "execution_count": 0,
   "metadata": {
    "application/vnd.databricks.v1+cell": {
     "cellMetadata": {
      "byteLimit": 2048000,
      "implicitDf": true,
      "rowLimit": 10000
     },
     "inputWidgets": {},
     "nuid": "418df51a-cc52-49a6-b065-fb635cd4ef88",
     "showTitle": true,
     "tableResultSettingsMap": {},
     "title": "OPTIMIZE AND ZORDER"
    }
   },
   "outputs": [],
   "source": [
    "%sql\n",
    "OPTIMIZE capstone.medisure.gold_claims_delta_table_partitioned\n",
    "ZORDER BY (ClaimID)\n"
   ]
  },
  {
   "cell_type": "code",
   "execution_count": 0,
   "metadata": {
    "application/vnd.databricks.v1+cell": {
     "cellMetadata": {
      "byteLimit": 2048000,
      "implicitDf": true,
      "rowLimit": 10000
     },
     "inputWidgets": {},
     "nuid": "2102a38d-acfb-42ab-a99f-525a45aee3dc",
     "showTitle": true,
     "tableResultSettingsMap": {},
     "title": "VACUUM"
    }
   },
   "outputs": [],
   "source": [
    "%sql\n",
    "VACUUM capstone.medisure.gold_claims_delta_table_partitioned RETAIN 168 HOURS;\n"
   ]
  }
 ],
 "metadata": {
  "application/vnd.databricks.v1+notebook": {
   "computePreferences": null,
   "dashboards": [],
   "environmentMetadata": {
    "base_environment": "",
    "environment_version": "3"
   },
   "inputWidgetPreferences": null,
   "language": "python",
   "notebookMetadata": {
    "mostRecentlyExecutedCommandWithImplicitDF": {
     "commandId": 4979780812417885,
     "dataframes": [
      "_sqldf"
     ]
    },
    "pythonIndentUnit": 4
   },
   "notebookName": "Delta Lake ACID features(DEMO)",
   "widgets": {}
  },
  "language_info": {
   "name": "python"
  }
 },
 "nbformat": 4,
 "nbformat_minor": 0
}
