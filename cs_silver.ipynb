{
 "cells": [
  {
   "cell_type": "code",
   "execution_count": 0,
   "metadata": {
    "application/vnd.databricks.v1+cell": {
     "cellMetadata": {},
     "inputWidgets": {},
     "nuid": "5b5628d9-0de2-438b-927f-edaed72ab037",
     "showTitle": true,
     "tableResultSettingsMap": {},
     "title": "declarations of functions"
    }
   },
   "outputs": [],
   "source": [
    "import dlt\n",
    "from pyspark.sql.functions import col,regexp_replace,when,explode_outer,from_json\n",
    "from pyspark.sql.types import ArrayType, StructType, StructField, StringType"
   ]
  },
  {
   "cell_type": "code",
   "execution_count": 0,
   "metadata": {
    "application/vnd.databricks.v1+cell": {
     "cellMetadata": {},
     "inputWidgets": {},
     "nuid": "3377a3c2-5052-40fb-8e6d-5caf072f3fe6",
     "showTitle": true,
     "tableResultSettingsMap": {},
     "title": "ingestion from bronze_members to silver_members table"
    }
   },
   "outputs": [],
   "source": [
    "# Bronze → View\n",
    "@dlt.view(\n",
    "    name=\"silver_members_view\",\n",
    "    comment=\"Intermediate cleaned members data view\"\n",
    ")\n",
    "def silver_members_view():\n",
    "    return (\n",
    "        dlt.read(\"bronze_members\")\n",
    "            .dropDuplicates([\"MemberID\"])\n",
    "    )\n",
    "\n",
    "# View → Silver Table\n",
    "@dlt.table(\n",
    "    name=\"silver_members\",\n",
    "    comment=\"Cleaned members data with quality checks\",\n",
    "    table_properties={\n",
    "        \"quality\": \"silver\",\n",
    "        \"pipelines.autoOptimize.managed\": \"true\"\n",
    "    }\n",
    ")\n",
    "@dlt.expect_or_drop(\"memberid_not_null\",\"MemberID IS NOT NULL\")\n",
    "\n",
    "def silver_members():\n",
    "    return dlt.read(\"silver_members_view\")\n"
   ]
  },
  {
   "cell_type": "code",
   "execution_count": 0,
   "metadata": {
    "application/vnd.databricks.v1+cell": {
     "cellMetadata": {},
     "inputWidgets": {},
     "nuid": "c9eeec6c-01c3-4edf-869d-c2d75b89d70a",
     "showTitle": true,
     "tableResultSettingsMap": {},
     "title": "ingestion from bronze_diagnosis_ref to silver_diagnosis_ref table"
    }
   },
   "outputs": [],
   "source": [
    "import dlt\n",
    "from pyspark.sql.functions import col, when\n",
    "\n",
    "# Bronze → View\n",
    "@dlt.view(\n",
    "    name=\"silver_diagnosis_ref_view\",\n",
    "    comment=\"Intermediate cleaned diagnosis reference data view\"\n",
    ")\n",
    "def silver_diagnosis_ref_view():\n",
    "    df = dlt.read(\"bronze_diagnosis_ref\").dropDuplicates([\"Code\"])\n",
    "\n",
    "    # Clean Code primary key column: if contains a dot inside alphanumeric code, remove the dot; otherwise leave as-is\n",
    "    df = df.withColumn(\n",
    "        \"Code\",\n",
    "        when(\n",
    "            col(\"Code\").rlike(\"^[A-Za-z0-9]+\\\\.[A-Za-z0-9]+$\"),  \n",
    "            regexp_replace(col(\"Code\"), \"\\\\.\", \"\")               \n",
    "        ).when(\n",
    "            col(\"Code\").rlike(\"^[0-9]+(\\\\.[0-9]+)?$\"),           \n",
    "            col(\"Code\").cast(\"double\").cast(\"int\").cast(\"string\")\n",
    "        ).otherwise(col(\"Code\"))                               \n",
    "    )\n",
    "\n",
    "    return df\n",
    "\n",
    "\n",
    "# View → Silver Table with expectation\n",
    "@dlt.table(\n",
    "    name=\"silver_diagnosis_ref\",\n",
    "    comment=\"Cleaned diagnosis_ref data with Code enforced as integer format if decimal\",\n",
    "    table_properties={\n",
    "        \"quality\": \"silver\",\n",
    "        \"pipelines.autoOptimize.managed\": \"true\"\n",
    "    }\n",
    ")\n",
    "\n",
    "@dlt.expect_or_drop(\"Code_not_null\", \"Code IS NOT NULL\")\n",
    "\n",
    "def silver_diagnosis_ref():\n",
    "    return dlt.read(\"silver_diagnosis_ref_view\")\n"
   ]
  },
  {
   "cell_type": "code",
   "execution_count": 0,
   "metadata": {
    "application/vnd.databricks.v1+cell": {
     "cellMetadata": {},
     "inputWidgets": {},
     "nuid": "85f155d7-712c-41a3-9818-979143e4ea21",
     "showTitle": true,
     "tableResultSettingsMap": {},
     "title": "ingestion from bronze_providers to silver_providers table"
    }
   },
   "outputs": [],
   "source": [
    "\n",
    "location_schema = ArrayType(\n",
    "    StructType([\n",
    "        StructField(\"Address\", StringType(), True),\n",
    "        StructField(\"City\", StringType(), True),\n",
    "        StructField(\"State\", StringType(), True)\n",
    "    ])\n",
    ")\n",
    "\n",
    "@dlt.expect_or_drop(\"providerid_not_null\", \"ProviderID IS NOT NULL\")\n",
    "@dlt.table(\n",
    "    name=\"silver_providers\",\n",
    "    comment=\"Normalized provider directory with flattened locations and specialties\",\n",
    "    table_properties={\"quality\": \"silver\"}\n",
    ")\n",
    "def silver_providers():\n",
    "    p = dlt.read(\"bronze_providers\")\n",
    "\n",
    "    # Parse JSON string into array<struct>\n",
    "    p_parsed = p.withColumn(\"Locations\", from_json(col(\"Locations\"), location_schema)) \\\n",
    "                .withColumn(\"Specialties\", from_json(col(\"Specialties\"), ArrayType(StringType())))\n",
    "\n",
    "    # Explode parsed arrays\n",
    "    p_flat = (\n",
    "        p_parsed.withColumn(\"location\", explode_outer(\"Locations\"))\n",
    "                .withColumn(\"Specialty\", explode_outer(\"Specialties\"))\n",
    "                .select(\n",
    "                    \"ProviderID\",\n",
    "                    \"Name\",\n",
    "                    \"TIN\",\n",
    "                    \"IsActive\",\n",
    "                    \"LastVerified\",\n",
    "                    col(\"location.Address\").alias(\"Address\"),\n",
    "                    col(\"location.City\").alias(\"City\"),\n",
    "                    col(\"location.State\").alias(\"State\"),\n",
    "                    \"Specialty\"\n",
    "                )\n",
    "    )\n",
    "\n",
    "    return p_flat.dropDuplicates([\"ProviderID\", \"Address\", \"Specialty\"])\n"
   ]
  }
 ],
 "metadata": {
  "application/vnd.databricks.v1+notebook": {
   "computePreferences": {
    "hardware": {
     "accelerator": null,
     "gpuPoolId": null,
     "memory": null
    }
   },
   "dashboards": [],
   "environmentMetadata": {
    "base_environment": "",
    "environment_version": "3"
   },
   "inputWidgetPreferences": null,
   "language": "python",
   "notebookMetadata": {
    "pythonIndentUnit": 4
   },
   "notebookName": "cs_silver",
   "widgets": {}
  },
  "language_info": {
   "name": "python"
  }
 },
 "nbformat": 4,
 "nbformat_minor": 0
}
