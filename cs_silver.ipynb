{
 "cells": [
  {
   "cell_type": "code",
   "execution_count": 0,
   "metadata": {
    "application/vnd.databricks.v1+cell": {
     "cellMetadata": {},
     "inputWidgets": {},
     "nuid": "5b5628d9-0de2-438b-927f-edaed72ab037",
     "showTitle": false,
     "tableResultSettingsMap": {},
     "title": ""
    }
   },
   "outputs": [],
   "source": [
    "import dlt\n",
    "from pyspark.sql.functions import col"
   ]
  },
  {
   "cell_type": "code",
   "execution_count": 0,
   "metadata": {
    "application/vnd.databricks.v1+cell": {
     "cellMetadata": {},
     "inputWidgets": {},
     "nuid": "3377a3c2-5052-40fb-8e6d-5caf072f3fe6",
     "showTitle": true,
     "tableResultSettingsMap": {},
     "title": "ingestion from bronze_members to silver_members table"
    }
   },
   "outputs": [],
   "source": [
    "# Bronze → View\n",
    "@dlt.view(\n",
    "    name=\"silver_members_view\",\n",
    "    comment=\"Intermediate cleaned members data view\"\n",
    ")\n",
    "def silver_members_view():\n",
    "    return (\n",
    "        dlt.read(\"bronze_members\")\n",
    "            .filter(col(\"MemberID\").isNotNull())\n",
    "            .dropDuplicates([\"MemberID\"])\n",
    "    )\n",
    "\n",
    "# View → Silver Table\n",
    "@dlt.table(\n",
    "    name=\"silver_members\",\n",
    "    comment=\"Cleaned members data with quality checks\",\n",
    "    table_properties={\n",
    "        \"quality\": \"silver\",\n",
    "        \"pipelines.autoOptimize.managed\": \"true\"\n",
    "    }\n",
    ")\n",
    "def silver_members():\n",
    "    return dlt.read(\"silver_members_view\")\n"
   ]
  }
 ],
 "metadata": {
  "application/vnd.databricks.v1+notebook": {
   "computePreferences": {
    "hardware": {
     "accelerator": null,
     "gpuPoolId": null,
     "memory": null
    }
   },
   "dashboards": [],
   "environmentMetadata": {
    "base_environment": "",
    "environment_version": "3"
   },
   "inputWidgetPreferences": null,
   "language": "python",
   "notebookMetadata": {
    "pythonIndentUnit": 4
   },
   "notebookName": "cs_silver",
   "widgets": {}
  },
  "language_info": {
   "name": "python"
  }
 },
 "nbformat": 4,
 "nbformat_minor": 0
}
